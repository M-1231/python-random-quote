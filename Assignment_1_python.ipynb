{
  "nbformat": 4,
  "nbformat_minor": 0,
  "metadata": {
    "colab": {
      "provenance": [],
      "authorship_tag": "ABX9TyNyFHmZkzgXqfEFmzCiyRTZ",
      "include_colab_link": true
    },
    "kernelspec": {
      "name": "python3",
      "display_name": "Python 3"
    },
    "language_info": {
      "name": "python"
    }
  },
  "cells": [
    {
      "cell_type": "markdown",
      "metadata": {
        "id": "view-in-github",
        "colab_type": "text"
      },
      "source": [
        "<a href=\"https://colab.research.google.com/github/M-1231/python-random-quote/blob/master/Assignment_1_python.ipynb\" target=\"_parent\"><img src=\"https://colab.research.google.com/assets/colab-badge.svg\" alt=\"Open In Colab\"/></a>"
      ]
    },
    {
      "cell_type": "code",
      "execution_count": 19,
      "metadata": {
        "colab": {
          "base_uri": "https://localhost:8080/"
        },
        "id": "QVEo8o9Veyvw",
        "outputId": "e85ea667-13ba-4504-b67b-caeded9c5c62"
      },
      "outputs": [
        {
          "output_type": "stream",
          "name": "stdout",
          "text": [
            "mahima [1, 2, 3, 4, 'mahi', 11.43, False] 40.987 ('abc', 'def', 'mno', 'pqr')\n",
            "<class 'str'>\n",
            "<class 'list'>\n",
            "<class 'float'>\n",
            "<class 'tuple'>\n"
          ]
        }
      ],
      "source": [
        "#Q.1\n",
        "s = \"mahima\"\n",
        "l = [1,2,3,4,\"mahi\",11.43,False]\n",
        "f=40.987\n",
        "t=(\"abc\",\"def\",\"mno\",\"pqr\")\n",
        "print(s,l,f,t)\n",
        "print(type(s))\n",
        "print(type(l))\n",
        "print(type(f))\n",
        "print(type(t))"
      ]
    },
    {
      "cell_type": "code",
      "source": [
        "#Q.2\n",
        "var1=''\n",
        "var2='[DS,ML,Python]'\n",
        "var3=['DS','ML','Python']\n",
        "var4=1.\n",
        "l=[var1,var2,var3,var4]\n",
        "for i in l:\n",
        "    print(type(i))"
      ],
      "metadata": {
        "colab": {
          "base_uri": "https://localhost:8080/"
        },
        "id": "PcVrVtpie_h9",
        "outputId": "35b667bd-e844-4478-adc5-ad049b980416"
      },
      "execution_count": 2,
      "outputs": [
        {
          "output_type": "stream",
          "name": "stdout",
          "text": [
            "<class 'str'>\n",
            "<class 'str'>\n",
            "<class 'list'>\n",
            "<class 'float'>\n"
          ]
        }
      ]
    },
    {
      "cell_type": "code",
      "source": [
        "#Q.3\n",
        "a=2\n",
        "b=4\n",
        "print(a/b)#here 2/4=0.5\n",
        "print(a%b)#here 2%4=2 remainder\n",
        "print(a//b)#here 2//4=0.5 round off to 0\n",
        "print(a**b)#here 2^4=16\n"
      ],
      "metadata": {
        "colab": {
          "base_uri": "https://localhost:8080/"
        },
        "id": "DgruHz0gfH5R",
        "outputId": "4c17e643-5552-41b7-a9ac-1da51eb968be"
      },
      "execution_count": 3,
      "outputs": [
        {
          "output_type": "stream",
          "name": "stdout",
          "text": [
            "0.5\n",
            "2\n",
            "0\n",
            "16\n"
          ]
        }
      ]
    },
    {
      "cell_type": "code",
      "source": [
        "#Q.4\n",
        "l=[\"ab\",2+3j,True,98,0.1,\"\",(1,2,0.1,\"jk\",True),3.33333333333,False,'[mxyz]']\n",
        "for j in l:\n",
        "  print(j)\n",
        "  print(type(j))"
      ],
      "metadata": {
        "colab": {
          "base_uri": "https://localhost:8080/"
        },
        "id": "GTpyhi5EfQF_",
        "outputId": "ab329d73-dfa8-44be-d95c-e11268025d2d"
      },
      "execution_count": 20,
      "outputs": [
        {
          "output_type": "stream",
          "name": "stdout",
          "text": [
            "ab\n",
            "<class 'str'>\n",
            "(2+3j)\n",
            "<class 'complex'>\n",
            "True\n",
            "<class 'bool'>\n",
            "98\n",
            "<class 'int'>\n",
            "0.1\n",
            "<class 'float'>\n",
            "\n",
            "<class 'str'>\n",
            "(1, 2, 0.1, 'jk', True)\n",
            "<class 'tuple'>\n",
            "3.33333333333\n",
            "<class 'float'>\n",
            "False\n",
            "<class 'bool'>\n",
            "[mxyz]\n",
            "<class 'str'>\n"
          ]
        }
      ]
    },
    {
      "cell_type": "code",
      "source": [
        "#Q.5\n",
        "a=int(input())\n",
        "b=int(input())\n",
        "c=a/b\n",
        "while a%b==0:\n",
        "  print(\"a is purely divisible by b\")\n",
        "  print(\"a is\", c ,\"times divisible by b\")\n",
        "  break\n",
        "else:\n",
        "  print(\"a is not divisible by b\")"
      ],
      "metadata": {
        "colab": {
          "base_uri": "https://localhost:8080/"
        },
        "id": "XvLq3jhpkLmZ",
        "outputId": "848f3105-50cc-4441-9b03-b07623c96f54"
      },
      "execution_count": 21,
      "outputs": [
        {
          "output_type": "stream",
          "name": "stdout",
          "text": [
            "80\n",
            "40\n",
            "a is purely divisible by b\n",
            "a is 2.0 times divisible by b\n"
          ]
        }
      ]
    },
    {
      "cell_type": "code",
      "source": [
        "#Q.6\n",
        "l=[1,2,3,4,5,6,7,8,9,10,11,12,13,14,15,16,17,18,19,20,21,22,23,24,25]\n",
        "for i in l:\n",
        "  if(i%3==0):\n",
        "      print (i,\" is divisible by 3\")\n",
        "  else:\n",
        "      print(i,\" is not divisible by 3\")\n",
        "  i=i+1"
      ],
      "metadata": {
        "colab": {
          "base_uri": "https://localhost:8080/"
        },
        "id": "X1xOl8xWfUWE",
        "outputId": "10b3ee72-6f5c-49c2-ba57-97cb17f2f6b9"
      },
      "execution_count": 18,
      "outputs": [
        {
          "output_type": "stream",
          "name": "stdout",
          "text": [
            "1  is not divisible by 3\n",
            "2  is not divisible by 3\n",
            "3  is divisible by 3\n",
            "4  is not divisible by 3\n",
            "5  is not divisible by 3\n",
            "6  is divisible by 3\n",
            "7  is not divisible by 3\n",
            "8  is not divisible by 3\n",
            "9  is divisible by 3\n",
            "10  is not divisible by 3\n",
            "11  is not divisible by 3\n",
            "12  is divisible by 3\n",
            "13  is not divisible by 3\n",
            "14  is not divisible by 3\n",
            "15  is divisible by 3\n",
            "16  is not divisible by 3\n",
            "17  is not divisible by 3\n",
            "18  is divisible by 3\n",
            "19  is not divisible by 3\n",
            "20  is not divisible by 3\n",
            "21  is divisible by 3\n",
            "22  is not divisible by 3\n",
            "23  is not divisible by 3\n",
            "24  is divisible by 3\n",
            "25  is not divisible by 3\n"
          ]
        }
      ]
    },
    {
      "cell_type": "code",
      "source": [
        "#Q.7\n",
        "#in string we cannot mutate one string with another hence it is immutable\n",
        "s=\"mahima\"\n",
        "s[3]\n",
        "s[3]=\"t\""
      ],
      "metadata": {
        "colab": {
          "base_uri": "https://localhost:8080/",
          "height": 235
        },
        "id": "QG5Jap2lfa8Y",
        "outputId": "f731131d-ebe6-4d4b-c4c6-36c2e99b1205"
      },
      "execution_count": 14,
      "outputs": [
        {
          "output_type": "error",
          "ename": "TypeError",
          "evalue": "ignored",
          "traceback": [
            "\u001b[0;31m---------------------------------------------------------------------------\u001b[0m",
            "\u001b[0;31mTypeError\u001b[0m                                 Traceback (most recent call last)",
            "\u001b[0;32m<ipython-input-14-1edd66ded39f>\u001b[0m in \u001b[0;36m<cell line: 5>\u001b[0;34m()\u001b[0m\n\u001b[1;32m      3\u001b[0m \u001b[0;31m#in string we cannot mutate one string with another hence it is immutable\u001b[0m\u001b[0;34m\u001b[0m\u001b[0;34m\u001b[0m\u001b[0m\n\u001b[1;32m      4\u001b[0m \u001b[0ms\u001b[0m\u001b[0;34m[\u001b[0m\u001b[0;36m3\u001b[0m\u001b[0;34m]\u001b[0m\u001b[0;34m\u001b[0m\u001b[0;34m\u001b[0m\u001b[0m\n\u001b[0;32m----> 5\u001b[0;31m \u001b[0ms\u001b[0m\u001b[0;34m[\u001b[0m\u001b[0;36m3\u001b[0m\u001b[0;34m]\u001b[0m\u001b[0;34m=\u001b[0m\u001b[0;34m\"t\"\u001b[0m\u001b[0;34m\u001b[0m\u001b[0;34m\u001b[0m\u001b[0m\n\u001b[0m\u001b[1;32m      6\u001b[0m \u001b[0;34m\u001b[0m\u001b[0m\n\u001b[1;32m      7\u001b[0m \u001b[0;34m\u001b[0m\u001b[0m\n",
            "\u001b[0;31mTypeError\u001b[0m: 'str' object does not support item assignment"
          ]
        }
      ]
    },
    {
      "cell_type": "code",
      "source": [
        "#in list we can mutate one value with another hence it is mutable\n",
        "l= [ 1,2,3,\"hari\",87.90,True,'']\n",
        "l\n",
        "l[4]=5+6j\n",
        "l"
      ],
      "metadata": {
        "colab": {
          "base_uri": "https://localhost:8080/"
        },
        "id": "ULdoJFknjVO9",
        "outputId": "b9f36912-bfc7-45dc-e960-886c0808e85b"
      },
      "execution_count": 24,
      "outputs": [
        {
          "output_type": "execute_result",
          "data": {
            "text/plain": [
              "[1, 2, 3, 'hari', (5+6j), True, '']"
            ]
          },
          "metadata": {},
          "execution_count": 24
        }
      ]
    },
    {
      "cell_type": "code",
      "source": [],
      "metadata": {
        "id": "WWMkngH5jZFP"
      },
      "execution_count": null,
      "outputs": []
    }
  ]
}